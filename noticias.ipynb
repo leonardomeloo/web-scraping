{
 "cells": [
  {
   "cell_type": "code",
   "execution_count": 2,
   "id": "1a939d5c-4925-4883-a632-bf7fc3ad1b4f",
   "metadata": {},
   "outputs": [
    {
     "ename": "ModuleNotFoundError",
     "evalue": "No module named 'webdriver_manager'",
     "output_type": "error",
     "traceback": [
      "\u001b[1;31m---------------------------------------------------------------------------\u001b[0m",
      "\u001b[1;31mModuleNotFoundError\u001b[0m                       Traceback (most recent call last)",
      "Cell \u001b[1;32mIn[2], line 6\u001b[0m\n\u001b[0;32m      4\u001b[0m \u001b[38;5;28;01mfrom\u001b[39;00m \u001b[38;5;21;01mselenium\u001b[39;00m\u001b[38;5;21;01m.\u001b[39;00m\u001b[38;5;21;01mwebdriver\u001b[39;00m\u001b[38;5;21;01m.\u001b[39;00m\u001b[38;5;21;01mchrome\u001b[39;00m\u001b[38;5;21;01m.\u001b[39;00m\u001b[38;5;21;01moptions\u001b[39;00m \u001b[38;5;28;01mimport\u001b[39;00m Options\n\u001b[0;32m      5\u001b[0m \u001b[38;5;28;01mfrom\u001b[39;00m \u001b[38;5;21;01mselenium\u001b[39;00m\u001b[38;5;21;01m.\u001b[39;00m\u001b[38;5;21;01mwebdriver\u001b[39;00m\u001b[38;5;21;01m.\u001b[39;00m\u001b[38;5;21;01mcommon\u001b[39;00m\u001b[38;5;21;01m.\u001b[39;00m\u001b[38;5;21;01mby\u001b[39;00m \u001b[38;5;28;01mimport\u001b[39;00m By\n\u001b[1;32m----> 6\u001b[0m \u001b[38;5;28;01mfrom\u001b[39;00m \u001b[38;5;21;01mwebdriver_manager\u001b[39;00m\u001b[38;5;21;01m.\u001b[39;00m\u001b[38;5;21;01mchrome\u001b[39;00m \u001b[38;5;28;01mimport\u001b[39;00m ChromeDriverManager\n\u001b[0;32m      7\u001b[0m \u001b[38;5;28;01mfrom\u001b[39;00m \u001b[38;5;21;01mselenium\u001b[39;00m\u001b[38;5;21;01m.\u001b[39;00m\u001b[38;5;21;01mwebdriver\u001b[39;00m\u001b[38;5;21;01m.\u001b[39;00m\u001b[38;5;21;01mchrome\u001b[39;00m\u001b[38;5;21;01m.\u001b[39;00m\u001b[38;5;21;01mservice\u001b[39;00m \u001b[38;5;28;01mimport\u001b[39;00m Service\n",
      "\u001b[1;31mModuleNotFoundError\u001b[0m: No module named 'webdriver_manager'"
     ]
    }
   ],
   "source": [
    "import pandas as pd\n",
    "from time import sleep\n",
    "from selenium import webdriver\n",
    "from selenium.webdriver.chrome.options import Options\n",
    "from selenium.webdriver.common.by import By\n",
    "from webdriver_manager.chrome import ChromeDriverManager\n",
    "from selenium.webdriver.chrome.service import Service"
   ]
  },
  {
   "cell_type": "code",
   "execution_count": 16,
   "id": "c2a559f7-9429-4a93-a2e8-0e5d4bba732b",
   "metadata": {},
   "outputs": [],
   "source": [
    "#Configurando abertura de pagina\n",
    "options = Options()\n",
    "options.add_argument(\"--start-maximized\")\n",
    "navegador = webdriver.Chrome(service=Service(ChromeDriverManager().install()), options=options)\n",
    "navegador.get('https://gizmodo.uol.com.br/')"
   ]
  },
  {
   "cell_type": "code",
   "execution_count": 17,
   "id": "28337180-6082-4a6f-88a0-52f4bcaa40d5",
   "metadata": {},
   "outputs": [],
   "source": [
    "sleep(5)\n",
    "\n",
    "dic = {\"TITULO\": [],\n",
    "       \"DATA\":   [],\n",
    "       \"RESUMO\": []\n",
    "}"
   ]
  },
  {
   "cell_type": "code",
   "execution_count": 18,
   "id": "4ccb2bc2-ca50-41e0-865b-84b8e26baa68",
   "metadata": {},
   "outputs": [],
   "source": [
    "for titulo in navegador.find_elements(By.XPATH, \"//h3[@class='postTitle entry-title']\")[11:]:\n",
    "    dic[\"TITULO\"].append(titulo.text)"
   ]
  },
  {
   "cell_type": "code",
   "execution_count": 19,
   "id": "d16f595e-6cca-4264-a650-89da3791bc0f",
   "metadata": {},
   "outputs": [],
   "source": [
    "for data in navegador.find_elements(By.XPATH, \"//span[@class='metaText metaDate']\")[11:]:\n",
    "    dic[\"DATA\"].append(data.text)"
   ]
  },
  {
   "cell_type": "code",
   "execution_count": 20,
   "id": "ab1f8041-6b0e-4f08-861f-d9237788f5f6",
   "metadata": {},
   "outputs": [],
   "source": [
    "for x in range(0,len(dic[\"DATA\"])):\n",
    "    novo = dic[\"DATA\"][x]\n",
    "    dic[\"DATA\"][x] = novo[0:20]"
   ]
  },
  {
   "cell_type": "code",
   "execution_count": 21,
   "id": "ac67e9d2-1a7f-443e-baf6-49ea52ad59ce",
   "metadata": {},
   "outputs": [],
   "source": [
    "for resumo in navegador.find_elements(By.XPATH, \"//div[@class='o-media-body']\"):\n",
    "    dic['RESUMO'].append(resumo.text)"
   ]
  },
  {
   "cell_type": "code",
   "execution_count": 22,
   "id": "36a3d167-09db-469d-833e-82f942752863",
   "metadata": {},
   "outputs": [],
   "source": [
    "df = pd.DataFrame(dic)"
   ]
  },
  {
   "cell_type": "code",
   "execution_count": 23,
   "id": "04612dc0-5f26-4619-8506-02b8ae684847",
   "metadata": {},
   "outputs": [],
   "source": [
    "df.to_csv('ProvaParvi.csv', index=False)"
   ]
  },
  {
   "cell_type": "code",
   "execution_count": null,
   "id": "91dcc554-6e0f-4322-8df9-5286bf24cb09",
   "metadata": {},
   "outputs": [],
   "source": []
  },
  {
   "cell_type": "code",
   "execution_count": null,
   "id": "f274afb0-93d9-47f2-87ba-fa57f7038a1e",
   "metadata": {},
   "outputs": [],
   "source": []
  }
 ],
 "metadata": {
  "kernelspec": {
   "display_name": "Python 3 (ipykernel)",
   "language": "python",
   "name": "python3"
  },
  "language_info": {
   "codemirror_mode": {
    "name": "ipython",
    "version": 3
   },
   "file_extension": ".py",
   "mimetype": "text/x-python",
   "name": "python",
   "nbconvert_exporter": "python",
   "pygments_lexer": "ipython3",
   "version": "3.12.4"
  }
 },
 "nbformat": 4,
 "nbformat_minor": 5
}
