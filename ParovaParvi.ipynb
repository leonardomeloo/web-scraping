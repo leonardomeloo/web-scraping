{
 "cells": [
  {
   "cell_type": "code",
   "execution_count": 86,
   "id": "647c88c4-31b9-48a3-8452-41e03d707fa7",
   "metadata": {
    "tags": []
   },
   "outputs": [],
   "source": [
    "import os\n",
    "import pandas as pd\n",
    "from time import sleep\n",
    "from selenium import webdriver\n",
    "from selenium.webdriver.chrome.options import Options\n",
    "from selenium.webdriver.common.by import By"
   ]
  },
  {
   "cell_type": "code",
   "execution_count": 87,
   "id": "2bedfec0-942c-4f8d-b4df-ddcde2e44f6a",
   "metadata": {},
   "outputs": [],
   "source": [
    "options = Options()\n",
    "#options.add_argument('--headLess')\n",
    "options.add_argument(\"--start-maximized\")\n",
    "navegador = webdriver.Chrome(options=options)"
   ]
  },
  {
   "cell_type": "code",
   "execution_count": 88,
   "id": "c0641f12-2fc8-4fbd-9b98-f4832a2e789b",
   "metadata": {},
   "outputs": [],
   "source": [
    "navegador.get('https://gizmodo.uol.com.br/')"
   ]
  },
  {
   "cell_type": "code",
   "execution_count": 89,
   "id": "4b8ec7be-807f-4429-a25b-a5b77f415356",
   "metadata": {},
   "outputs": [],
   "source": [
    "sleep(5)\n",
    "\n",
    "dic = {\"TITULO\": [],\n",
    "       \"DATA\":   [],\n",
    "       \"RESUMO\": []\n",
    "}"
   ]
  },
  {
   "cell_type": "code",
   "execution_count": 90,
   "id": "95ef4783-7b52-40ed-9a33-a84b5cdba288",
   "metadata": {
    "tags": []
   },
   "outputs": [],
   "source": [
    "for titulo in navegador.find_elements(By.XPATH, \"//h3[@class='postTitle entry-title']\")[11:]:\n",
    "    dic[\"TITULO\"].append(titulo.text)"
   ]
  },
  {
   "cell_type": "code",
   "execution_count": 91,
   "id": "3210d8e1-9d1f-43f2-883f-3efdeb1f1697",
   "metadata": {},
   "outputs": [],
   "source": [
    "for data in navegador.find_elements(By.XPATH, \"//span[@class='metaText metaDate']\")[11:]:\n",
    "    dic[\"DATA\"].append(data.text)\n"
   ]
  },
  {
   "cell_type": "code",
   "execution_count": 92,
   "id": "a1f750cd-1c07-4dd5-b10f-2659934ee79a",
   "metadata": {},
   "outputs": [],
   "source": [
    "for x in range(0,len(dic[\"DATA\"])):\n",
    "    novo = dic[\"DATA\"][x]\n",
    "    dic[\"DATA\"][x] = novo[0:20]\n"
   ]
  },
  {
   "cell_type": "code",
   "execution_count": 93,
   "id": "77191439-0d0b-4e52-9c83-7c9140937ffb",
   "metadata": {},
   "outputs": [],
   "source": [
    "for resumo in navegador.find_elements(By.XPATH, \"//div[@class='o-media-body']\"):\n",
    "    dic['RESUMO'].append(resumo.text)"
   ]
  },
  {
   "cell_type": "code",
   "execution_count": 94,
   "id": "58b3e8e2-3c41-4cbc-ad3e-0e647b8edb3e",
   "metadata": {},
   "outputs": [],
   "source": [
    "df = pd.DataFrame(dic)"
   ]
  },
  {
   "cell_type": "code",
   "execution_count": 95,
   "id": "b743bdc6-f418-4513-b670-d4cac1635f19",
   "metadata": {},
   "outputs": [],
   "source": [
    "df.to_csv('ProvaParvi.csv', index=False)"
   ]
  },
  {
   "cell_type": "code",
   "execution_count": 96,
   "id": "9eb9e736-9ee9-419a-bbb0-fe2ffab83a64",
   "metadata": {},
   "outputs": [
    {
     "name": "stdout",
     "output_type": "stream",
     "text": [
      "{'TITULO': ['Buraco no Chile: aparecem mais três grandes rachaduras no solo', 'PSG x Monaco: saiba onde assistir ao clássico francês neste domingo (28)', 'Cérebro humano reage de forma diferente ao ver foto de pizza, diz estudo', 'Infecções por fungos aumentaram mortalidade de internados por Covid-19', '38% off: Câmera de segurança inteligente entra em promoção na Amazon', '1º cachorro de estimação robô da China corre e pede carinho; veja imagens', 'Voluntário com doença hepática vai desenvolver um 2º fígado no corpo; entenda', 'Anvisa aprova importação de vacina contra varíola dos macacos', 'Japão lança Anime Taizen, o maior banco de dados de anime do mundo', 'Astronauta italiana compartilha foto de aurora austral feita de dentro da ISS'], 'DATA': ['26 de agosto de 2022', '26 de agosto de 2022', '26 de agosto de 2022', '26 de agosto de 2022', '26 de agosto de 2022', '26 de agosto de 2022', '26 de agosto de 2022', '26 de agosto de 2022', '26 de agosto de 2022', '26 de agosto de 2022'], 'RESUMO': ['Mineradora Ojos de Salgado diz que novas rachaduras não têm a ver com buraco gigante, porém as aberturas ficam em região próxima à cratera. Veja a atualização desse caso', 'Veja onde assistir aos jogos dos principais campeonatos da Europa neste final de semana; tem clássico quente na França no domingo', 'Estudo feito nos EUA mostrou que os humanos possuem grupos de neurônios sensíveis aos alimentos, assim como ocorre com rostos e palavras. Veja mais', 'Pesquisa feita por grupo internacional de pesquisadores alerta sobre a urgência de desenvolver novos medicamentos antifúngicos', 'Produto usa IA para girar a câmera e monitorar movimento dentro de casa. Confira a oferta', 'Empresa criou cachorro robô que pesa 12 kg e é capaz de correr até 17 km/h. O preço? R$ 13,7 mil', 'Método desenvolvido por empresa americana aplica células de fígado doado em pacientes para permitir crescimento de um mini órgão. Entenda', 'Decisão unânime aprovou importação e utilização da vacina e remédio contra a varíola dos macacos no Brasil. Efeito é de seis meses', 'Plataforma reúne mais de 15 mil títulos lançados desde 1910, e digitalizou animes guardados no Tesouro Nacional japonês', 'Brilhos em tons de verde e vermelho lembram cena de \"Stranger Things\", da Netflix; confira']}\n"
     ]
    }
   ],
   "source": [
    "print(dic)"
   ]
  },
  {
   "cell_type": "code",
   "execution_count": null,
   "id": "5d699d50-5b7d-413b-a202-311b38dba0b9",
   "metadata": {},
   "outputs": [],
   "source": []
  }
 ],
 "metadata": {
  "kernelspec": {
   "display_name": "Python 3 (ipykernel)",
   "language": "python",
   "name": "python3"
  },
  "language_info": {
   "codemirror_mode": {
    "name": "ipython",
    "version": 3
   },
   "file_extension": ".py",
   "mimetype": "text/x-python",
   "name": "python",
   "nbconvert_exporter": "python",
   "pygments_lexer": "ipython3",
   "version": "3.9.12"
  }
 },
 "nbformat": 4,
 "nbformat_minor": 5
}
