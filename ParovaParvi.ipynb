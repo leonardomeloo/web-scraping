{
 "cells": [
  {
   "cell_type": "code",
   "execution_count": 97,
   "id": "647c88c4-31b9-48a3-8452-41e03d707fa7",
   "metadata": {
    "tags": []
   },
   "outputs": [],
   "source": [
    "import os\n",
    "import pandas as pd\n",
    "from time import sleep\n",
    "from selenium import webdriver\n",
    "from selenium.webdriver.chrome.options import Options\n",
    "from selenium.webdriver.common.by import By"
   ]
  },
  {
   "cell_type": "code",
   "execution_count": 98,
   "id": "2bedfec0-942c-4f8d-b4df-ddcde2e44f6a",
   "metadata": {},
   "outputs": [],
   "source": [
    "options = Options()\n",
    "#options.add_argument('--headLess')\n",
    "options.add_argument(\"--start-maximized\")\n",
    "navegador = webdriver.Chrome(options=options)"
   ]
  },
  {
   "cell_type": "code",
   "execution_count": 99,
   "id": "c0641f12-2fc8-4fbd-9b98-f4832a2e789b",
   "metadata": {},
   "outputs": [],
   "source": [
    "navegador.get('https://gizmodo.uol.com.br/')"
   ]
  },
  {
   "cell_type": "code",
   "execution_count": 100,
   "id": "4b8ec7be-807f-4429-a25b-a5b77f415356",
   "metadata": {},
   "outputs": [],
   "source": [
    "sleep(5)\n",
    "\n",
    "dic = {\"TITULO\": [],\n",
    "       \"DATA\":   [],\n",
    "       \"RESUMO\": []\n",
    "}"
   ]
  },
  {
   "cell_type": "code",
   "execution_count": 101,
   "id": "95ef4783-7b52-40ed-9a33-a84b5cdba288",
   "metadata": {
    "tags": []
   },
   "outputs": [],
   "source": [
    "for titulo in navegador.find_elements(By.XPATH, \"//h3[@class='postTitle entry-title']\")[11:]:\n",
    "    dic[\"TITULO\"].append(titulo.text)"
   ]
  },
  {
   "cell_type": "code",
   "execution_count": 102,
   "id": "3210d8e1-9d1f-43f2-883f-3efdeb1f1697",
   "metadata": {},
   "outputs": [],
   "source": [
    "for data in navegador.find_elements(By.XPATH, \"//span[@class='metaText metaDate']\")[11:]:\n",
    "    dic[\"DATA\"].append(data.text)\n"
   ]
  },
  {
   "cell_type": "code",
   "execution_count": 103,
   "id": "a1f750cd-1c07-4dd5-b10f-2659934ee79a",
   "metadata": {},
   "outputs": [],
   "source": [
    "for x in range(0,len(dic[\"DATA\"])):\n",
    "    novo = dic[\"DATA\"][x]\n",
    "    dic[\"DATA\"][x] = novo[0:20]\n"
   ]
  },
  {
   "cell_type": "code",
   "execution_count": 104,
   "id": "77191439-0d0b-4e52-9c83-7c9140937ffb",
   "metadata": {},
   "outputs": [],
   "source": [
    "for resumo in navegador.find_elements(By.XPATH, \"//div[@class='o-media-body']\"):\n",
    "    dic['RESUMO'].append(resumo.text)"
   ]
  },
  {
   "cell_type": "code",
   "execution_count": 105,
   "id": "58b3e8e2-3c41-4cbc-ad3e-0e647b8edb3e",
   "metadata": {},
   "outputs": [],
   "source": [
    "df = pd.DataFrame(dic)"
   ]
  },
  {
   "cell_type": "code",
   "execution_count": 106,
   "id": "b743bdc6-f418-4513-b670-d4cac1635f19",
   "metadata": {},
   "outputs": [],
   "source": [
    "df.to_csv('ProvaParvi.csv', index=False)"
   ]
  },
  {
   "cell_type": "code",
   "execution_count": null,
   "id": "f2d410fb-35ca-454a-b900-9dc67c3b041a",
   "metadata": {},
   "outputs": [],
   "source": []
  }
 ],
 "metadata": {
  "kernelspec": {
   "display_name": "Python 3 (ipykernel)",
   "language": "python",
   "name": "python3"
  },
  "language_info": {
   "codemirror_mode": {
    "name": "ipython",
    "version": 3
   },
   "file_extension": ".py",
   "mimetype": "text/x-python",
   "name": "python",
   "nbconvert_exporter": "python",
   "pygments_lexer": "ipython3",
   "version": "3.9.12"
  }
 },
 "nbformat": 4,
 "nbformat_minor": 5
}
